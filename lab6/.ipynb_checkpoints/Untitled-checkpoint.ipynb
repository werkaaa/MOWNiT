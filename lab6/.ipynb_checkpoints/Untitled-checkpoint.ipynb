{
 "cells": [
  {
   "cell_type": "code",
   "execution_count": 1,
   "metadata": {},
   "outputs": [],
   "source": [
    "from wiki_dump_reader import Cleaner, iterate\n",
    "from nltk.corpus import stopwords \n",
    "from nltk.tokenize import word_tokenize \n",
    "from nltk.stem import PorterStemmer \n",
    "import re\n",
    "from collections import Counter\n",
    "from scipy.sparse import csc_matrix, csr_matrix\n",
    "from scipy.sparse.linalg import norm"
   ]
  },
  {
   "cell_type": "code",
   "execution_count": null,
   "metadata": {},
   "outputs": [],
   "source": [
    "nltk.download('punkt')"
   ]
  },
  {
   "cell_type": "code",
   "execution_count": 10,
   "metadata": {},
   "outputs": [],
   "source": [
    "cleaner = Cleaner()\n",
    "i = 0\n",
    "n = 1000\n",
    "\n",
    "stop_words = set(stopwords.words('english')) \n",
    "pattern = re.compile('[^a-z0-9]+')\n",
    "bag_of_words = set()\n",
    "file_dictionaries = []\n",
    "texts = []\n",
    "for title, text in iterate('wiki/simplewiki-20191120-pages-articles.xml'):\n",
    "    if i>=n:\n",
    "        break\n",
    "    cleaned_text = cleaner.clean_text(text)[:200] #first 200 characters\n",
    "    cleaned_fragment, _ = cleaner.build_links(text)\n",
    "    texts.append((title, cleaned_fragment))\n",
    "    #cleaned_text = text\n",
    "    #print(title)\n",
    "    #print(cleaned_text)\n",
    "    #print('-------')\n",
    "    i+=1\n",
    "    word_tokens = pattern.sub(' ', cleaned_text.lower()).split(' ')\n",
    "    cleaned_text = [PorterStemmer().stem(w) for w in word_tokens if not w in stop_words]\n",
    "    #print(cleaned_text)\n",
    "    file_dictionaries.append(Counter(cleaned_text))\n",
    "    bag_of_words = bag_of_words.union(set(cleaned_text))"
   ]
  },
  {
   "cell_type": "code",
   "execution_count": 11,
   "metadata": {},
   "outputs": [],
   "source": [
    "files = []\n",
    "words = []\n",
    "values = []\n",
    "\n",
    "bag_of_words = list(bag_of_words)\n",
    "nw_vector = [0]*len(bag_of_words)\n",
    "for (f, file) in enumerate(file_dictionaries):\n",
    "    for (w, word) in enumerate(bag_of_words):\n",
    "        files.append(f)\n",
    "        words.append(w)\n",
    "        if word in file.keys():\n",
    "            values.append(file[word])\n",
    "            nw_vector[w]+=1\n",
    "        else:\n",
    "            values.append(0)\n",
    "\n",
    "term_by_document = csc_matrix((values, (words, files))) #?\n",
    "nw_vector = np.array(nw_vector)\n",
    "IDF = np.log(np.array([n]*len(bag_of_words))/nw_vector)\n",
    "IDF_sparse_matrix = csc_matrix(IDF.reshape(-1, 1))\n",
    "term_by_document = term_by_document.multiply(IDF_sparse_matrix)"
   ]
  },
  {
   "cell_type": "code",
   "execution_count": 12,
   "metadata": {},
   "outputs": [],
   "source": [
    "def search(query, k):\n",
    "    word_tokens = pattern.sub(' ', query.lower()).split(' ')\n",
    "    cleaned_query = [PorterStemmer().stem(w) for w in word_tokens if not w in stop_words]\n",
    "    query_dictionary = Counter(cleaned_query)\n",
    "    \n",
    "    query_indices = []\n",
    "    for (w, word) in enumerate(bag_of_words):\n",
    "        if word in query_dictionary.keys():\n",
    "            query_indices.append(w)\n",
    "    \n",
    "    query_vector_transposed = csr_matrix((list(query_dictionary.values()), ([0]*len(query_indices), query_indices)), (1, len(bag_of_words)))\n",
    "    \n",
    "    similarity = query_vector_transposed * term_by_document\n",
    "    similarity = similarity/norm(query_vector_transposed)\n",
    "    \n",
    "    d_norms = norm(term_by_document, axis=0)\n",
    "    similarity = np.array(similarity/d_norms)\n",
    "\n",
    "    return np.argpartition(-1*similarity.squeeze(), k)[:k]\n"
   ]
  },
  {
   "cell_type": "code",
   "execution_count": 34,
   "metadata": {},
   "outputs": [
    {
     "data": {
      "text/plain": [
       "array([395])"
      ]
     },
     "execution_count": 34,
     "metadata": {},
     "output_type": "execute_result"
    }
   ],
   "source": [
    "search(\"planet\", 1)"
   ]
  },
  {
   "cell_type": "code",
   "execution_count": 35,
   "metadata": {},
   "outputs": [
    {
     "name": "stdout",
     "output_type": "stream",
     "text": [
      "{{Multiple image|direction=vertical|align=right|image1=Terrestrial planet size comparisons.jpg|image2=Gas giants and the Sun (1 px = 1000 km).jpg|width=300|caption2=Image of the Solar System planets. Top image shows the Terrestrial planets and the bottom image shows the Gas giants.}}\n",
      "\n",
      "<onlyinclude>A '''planet''' is a large object such as Jupiter or Earth that orbits a star. Planets are smaller than stars, and they do not produce light.\n",
      "\n",
      "Planets are shaped like a slightly squashed ball (called a spheroid). Objects that orbit planets are called satellites. A star and everything which orbits it are called a star system.\n",
      "\n",
      "There are eight planets in our Solar System. Pluto used to be called a planet, but in August 2006, the International Astronomical Union decided it was a dwarf planet instead. There are four more known dwarf planets in the Solar System, Ceres, Makemake, Eris and Haumea.\n",
      "\n",
      "The name \"planet\" is from the Greek word ''πλανήτης'' (''planetes''), meaning \"wanderers\", or \"things that move\". Until the 1990s, people only knew of those in the Solar System.  As of June 2017, we know of 3,610 other planets.<ref>{{cite web|author=Jean Schneider|title=Interactive Extra-solar Planets Catalog|url=http://exoplanet.eu/catalog.php|work=The Extrasolar Planets Encyclopedia|accessdate=2011-06-23}}</ref>  These newly found planets are orbiting other stars: they are ''extrasolar'' planets. Sometimes people call them \"exoplanets\".</onlyinclude>\n",
      "\n",
      "== In the Solar System ==\n",
      "{{Main|History of astronomy}}\n",
      "\n",
      "\n",
      "The planets in the Solar System have names of Greek or Roman gods, apart from Earth, because people did not think Earth was a planet in old times. However, Earth is occasionally referred by the name of a Roman god: ''Terra''. Other languages, for example Chinese, use different names. Moons also have names of gods and people from classical mythology, or from the plays written by Shakespeare.\n",
      "\n",
      "=== Planets ===\n",
      "Here is a list of planets in the Solar System. They are ordered by how close they are to the Sun, nearest first.\n",
      "{| class=\"wikitable \" style=\"text-align: left;\"\n",
      "! Planet\n",
      "! Symbol\n",
      "|-\n",
      "| Mercury\n",
      "|\n",
      "|-\n",
      "| Venus\n",
      "| \n",
      "|-\n",
      "| Earth\n",
      "| \n",
      "|-\n",
      "| Mars\n",
      "| \n",
      "|-\n",
      "| Jupiter\n",
      "| \n",
      "|-\n",
      "| Saturn\n",
      "| \n",
      "|-\n",
      "| Uranus\n",
      "| \n",
      "|-\n",
      "| Neptune\n",
      "| \n",
      "|}\n",
      "\n",
      "=== Types of planets ===\n",
      "Astronomers speak about ''major'' (or true) planets, and minor planets, which are smaller objects that go around the Sun. Some examples of \"minor planets\" are asteroids, comets, and trans-Neptunian objects.\n",
      "\n",
      "Planets in the Solar System are of three sorts:\n",
      "* ''Terrestrial'' or ''rocky'': Planets that are similar to Earth — in them is mostly rock: Mercury, Venus, Earth, Mars.\n",
      "* ''Jovian'' or ''gas giant'': These planets are mostly made of gas: Jupiter, Saturn, Uranus, Neptune. Uranian planets are a special sort of gas giants, they have more hydrogen and helium.\n",
      "* ''Icy'': Sometimes people also have a third sort, for bodies such as Pluto (though Pluto is no longer called a planet by everyone). These planets are mostly made of ice.\n",
      "Many objects in the Solar System that are not planets are also \"icy\". Examples are the icy moons of the outer planets of the Solar System (like Triton).\n",
      "\n",
      "==Related pages==\n",
      "* List of planets\n",
      "* Ice dwarfs\n",
      "\n",
      "==References==\n",
      "<references/>\n",
      "\n",
      "{{Solar System}}\n"
     ]
    }
   ],
   "source": [
    "print(texts[395][1])"
   ]
  },
  {
   "cell_type": "code",
   "execution_count": null,
   "metadata": {},
   "outputs": [],
   "source": [
    "x = [5, 2, 3, 6, 1, 4]"
   ]
  },
  {
   "cell_type": "code",
   "execution_count": null,
   "metadata": {},
   "outputs": [],
   "source": [
    "np.argpartition(x, 2)"
   ]
  },
  {
   "cell_type": "code",
   "execution_count": null,
   "metadata": {},
   "outputs": [],
   "source": [
    "term_by_document = term_by_document.multiply(IDF_sparse_matrix)"
   ]
  },
  {
   "cell_type": "code",
   "execution_count": null,
   "metadata": {},
   "outputs": [],
   "source": [
    "term_by_document.toarray()"
   ]
  },
  {
   "cell_type": "code",
   "execution_count": null,
   "metadata": {},
   "outputs": [],
   "source": [
    "IDF_sparse_matrix = csc_matrix(IDF.reshape(-1, 1))"
   ]
  },
  {
   "cell_type": "code",
   "execution_count": null,
   "metadata": {},
   "outputs": [],
   "source": []
  },
  {
   "cell_type": "code",
   "execution_count": null,
   "metadata": {},
   "outputs": [],
   "source": [
    "IDF_sm = csc_matrix(IDF[:2].reshape(-1, 1))"
   ]
  },
  {
   "cell_type": "code",
   "execution_count": null,
   "metadata": {},
   "outputs": [],
   "source": [
    "IDF_sm.toarray()"
   ]
  },
  {
   "cell_type": "code",
   "execution_count": null,
   "metadata": {},
   "outputs": [],
   "source": [
    "IDF.shape[0]"
   ]
  },
  {
   "cell_type": "code",
   "execution_count": null,
   "metadata": {},
   "outputs": [],
   "source": [
    "nw_vector = np.array(nw_vector)"
   ]
  },
  {
   "cell_type": "code",
   "execution_count": null,
   "metadata": {},
   "outputs": [],
   "source": [
    "IDF = np.log(np.array([n]*len(bag_of_words))/nw_vector)"
   ]
  },
  {
   "cell_type": "code",
   "execution_count": null,
   "metadata": {},
   "outputs": [],
   "source": [
    "IDF"
   ]
  },
  {
   "cell_type": "code",
   "execution_count": null,
   "metadata": {},
   "outputs": [],
   "source": []
  },
  {
   "cell_type": "code",
   "execution_count": null,
   "metadata": {},
   "outputs": [],
   "source": [
    "term_by_document.toarray()"
   ]
  },
  {
   "cell_type": "code",
   "execution_count": null,
   "metadata": {},
   "outputs": [],
   "source": [
    "nw_vector"
   ]
  },
  {
   "cell_type": "code",
   "execution_count": null,
   "metadata": {},
   "outputs": [],
   "source": [
    "bag_of_words[0]"
   ]
  },
  {
   "cell_type": "code",
   "execution_count": null,
   "metadata": {},
   "outputs": [],
   "source": [
    "#bag_of_words"
   ]
  },
  {
   "cell_type": "code",
   "execution_count": null,
   "metadata": {},
   "outputs": [],
   "source": [
    "#file_dictionaries"
   ]
  },
  {
   "cell_type": "code",
   "execution_count": null,
   "metadata": {},
   "outputs": [],
   "source": []
  }
 ],
 "metadata": {
  "kernelspec": {
   "display_name": "Python 3",
   "language": "python",
   "name": "python3"
  },
  "language_info": {
   "codemirror_mode": {
    "name": "ipython",
    "version": 3
   },
   "file_extension": ".py",
   "mimetype": "text/x-python",
   "name": "python",
   "nbconvert_exporter": "python",
   "pygments_lexer": "ipython3",
   "version": "3.7.3"
  },
  "toc": {
   "base_numbering": 1,
   "nav_menu": {},
   "number_sections": true,
   "sideBar": true,
   "skip_h1_title": false,
   "title_cell": "Table of Contents",
   "title_sidebar": "Contents",
   "toc_cell": false,
   "toc_position": {},
   "toc_section_display": true,
   "toc_window_display": false
  },
  "varInspector": {
   "cols": {
    "lenName": 16,
    "lenType": 16,
    "lenVar": 40
   },
   "kernels_config": {
    "python": {
     "delete_cmd_postfix": "",
     "delete_cmd_prefix": "del ",
     "library": "var_list.py",
     "varRefreshCmd": "print(var_dic_list())"
    },
    "r": {
     "delete_cmd_postfix": ") ",
     "delete_cmd_prefix": "rm(",
     "library": "var_list.r",
     "varRefreshCmd": "cat(var_dic_list()) "
    }
   },
   "types_to_exclude": [
    "module",
    "function",
    "builtin_function_or_method",
    "instance",
    "_Feature"
   ],
   "window_display": false
  }
 },
 "nbformat": 4,
 "nbformat_minor": 2
}
