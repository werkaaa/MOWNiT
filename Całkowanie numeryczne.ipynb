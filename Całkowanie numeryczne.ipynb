{
 "cells": [
  {
   "cell_type": "markdown",
   "metadata": {},
   "source": [
    "# Całkowanie numeryczne"
   ]
  },
  {
   "cell_type": "code",
   "execution_count": 1,
   "metadata": {},
   "outputs": [],
   "source": [
    "import numpy as np\n",
    "from scipy import integrate\n",
    "import matplotlib.pyplot as plt"
   ]
  },
  {
   "cell_type": "code",
   "execution_count": 2,
   "metadata": {},
   "outputs": [],
   "source": [
    "def f1(x):\n",
    "    return np.exp(-x**2)*np.log(x)**2\n",
    "\n",
    "def f2(x):\n",
    "    return 1/(x**3-2*x-5)\n",
    "\n",
    "def f3(x):\n",
    "    return x**5*np.exp(-1*x)*np.sin(x)\n",
    "\n",
    "def f4(x, y): #0<=x<=1, 0<=y<=1-x\n",
    "    return 1/((np.sqrt(x+y))*(1+x+y))\n",
    "\n",
    "def f5(x, y): #-2<=x<=3, -5<=y<=5\n",
    "    return x**2+y**2"
   ]
  },
  {
   "cell_type": "markdown",
   "metadata": {},
   "source": [
    "## Złożona kwadratura Simpsona"
   ]
  },
  {
   "cell_type": "code",
   "execution_count": 3,
   "metadata": {},
   "outputs": [],
   "source": [
    "def simpson(x, y, a, b):\n",
    "    if x.shape[0] % 2 == 0:\n",
    "        raise ValueError(\"x must be odd length\")\n",
    "    dx = (b-a)/(x.shape[0]-1)\n",
    "    S = dx/3. * np.sum(y[0:-1:2] + 4*y[1::2] + y[2::2])\n",
    "    return S"
   ]
  },
  {
   "cell_type": "code",
   "execution_count": 4,
   "metadata": {},
   "outputs": [],
   "source": [
    "a = 2.5\n",
    "b = 10.\n",
    "N = 50\n",
    "x = np.linspace(a,b,N+1)"
   ]
  },
  {
   "cell_type": "code",
   "execution_count": 5,
   "metadata": {},
   "outputs": [
    {
     "name": "stdout",
     "output_type": "stream",
     "text": [
      "33.6 µs ± 1.1 µs per loop (mean ± std. dev. of 7 runs, 10000 loops each)\n",
      "59.7 µs ± 882 ns per loop (mean ± std. dev. of 7 runs, 10000 loops each)\n",
      "Integrals differnce equals: 1.6686207937903139e-07\n"
     ]
    }
   ],
   "source": [
    "%timeit simpson(x, f1(x), a, b)\n",
    "%timeit integrate.quad(f1, a, b)\n",
    "print(f'Integrals differnce equals: {abs(simpson(x, f1(x), a, b)-integrate.quad(f1, a, b)[0])}')"
   ]
  },
  {
   "cell_type": "code",
   "execution_count": 6,
   "metadata": {},
   "outputs": [
    {
     "name": "stdout",
     "output_type": "stream",
     "text": [
      "24.4 µs ± 908 ns per loop (mean ± std. dev. of 7 runs, 10000 loops each)\n",
      "51.7 µs ± 7.67 µs per loop (mean ± std. dev. of 7 runs, 10000 loops each)\n",
      "Integrals differnce equals: 4.374582586856579e-05\n"
     ]
    }
   ],
   "source": [
    "%timeit simpson(x, f2(x), a, b)\n",
    "%timeit integrate.quad(f2, a, b)\n",
    "print(f'Integrals differnce equals: {abs(simpson(x, f2(x), a, b)-integrate.quad(f2, a, b)[0])}')"
   ]
  },
  {
   "cell_type": "code",
   "execution_count": 7,
   "metadata": {},
   "outputs": [
    {
     "name": "stdout",
     "output_type": "stream",
     "text": [
      "32.9 µs ± 8.04 µs per loop (mean ± std. dev. of 7 runs, 10000 loops each)\n",
      "73 µs ± 12.5 µs per loop (mean ± std. dev. of 7 runs, 10000 loops each)\n",
      "Integrals differnce equals: 3.815632049963824e-05\n"
     ]
    }
   ],
   "source": [
    "%timeit simpson(x, f3(x), a, b)\n",
    "%timeit integrate.quad(f3, a, b)\n",
    "print(f'Integrals differnce equals: {abs(simpson(x, f3(x), a, b)-integrate.quad(f3, a, b)[0])}')"
   ]
  },
  {
   "cell_type": "markdown",
   "metadata": {},
   "source": [
    "## Oznaczone całki podwójne"
   ]
  },
  {
   "cell_type": "code",
   "execution_count": 9,
   "metadata": {},
   "outputs": [],
   "source": [
    "ax = -3.\n",
    "bx = 3.\n",
    "ay = -5.\n",
    "by = 5.\n",
    "Nx = 100\n",
    "Ny = 100\n",
    "x = np.linspace(ax,bx,Nx+1)\n",
    "y = np.linspace(ay,by,Ny+1)"
   ]
  },
  {
   "cell_type": "markdown",
   "metadata": {},
   "source": [
    "Można łatwo analitycznie policzyć, że dokładna wartość całki wynosi $680$."
   ]
  },
  {
   "cell_type": "code",
   "execution_count": 16,
   "metadata": {},
   "outputs": [],
   "source": [
    "def plot_compare(f, N_max=2000):\n",
    "    global grid\n",
    "    N = np.arange(2, N_max, 4)\n",
    "    rel_error = []\n",
    "    similar = []\n",
    "    exact = 680.\n",
    "    adaptive_error = integrate.dblquad(f5, ax, bx, ay, by)[1]\n",
    "    for n in N:\n",
    "        x = np.linspace(ax,bx,n+1)\n",
    "        y = np.linspace(ay,by,n+1)\n",
    "        grid = get_simpsons_coef(n, n)\n",
    "        sim = f(x, y, f5, ax, bx, ay, by)     \n",
    "        rel_error.append(abs(exact-sim)/exact)\n",
    "        if abs(rel_error[-1]-adaptive_error) < 10**(-5):\n",
    "            similar.append(n)\n",
    "    plt.plot(N, rel_error)\n",
    "    return similar\n",
    "\n",
    "def get_simpsons_coef(Nx, Ny):\n",
    "    grid = np.ones((Nx+1, Ny+1))\n",
    "    grid[1::2] *=4 \n",
    "    grid[2:-1:2] *=2\n",
    "    grid[:,1::2] *=4 \n",
    "    grid[:,2:-1:2] *=2\n",
    "    return grid"
   ]
  },
  {
   "cell_type": "code",
   "execution_count": 17,
   "metadata": {},
   "outputs": [],
   "source": [
    "def trapez(x, y, a, b):\n",
    "    if x.shape[0] % 2 == 0:\n",
    "        raise ValueError(\"x must be odd length\")\n",
    "    dx = (b-a)/(x.shape[0]-1)\n",
    "    S = dx/2. * np.sum(y[0:-1] + y[1:])\n",
    "    return S"
   ]
  },
  {
   "cell_type": "code",
   "execution_count": 18,
   "metadata": {},
   "outputs": [],
   "source": [
    "def trapez_2d(x, y, f, ax, bx, ay, by):\n",
    "    f_xy = f(x.reshape(-1, 1), y.reshape(1, -1))\n",
    "    return trapez(x, [trapez(y, f_, ay, by) for f_ in f_xy], ax, bx)"
   ]
  },
  {
   "cell_type": "code",
   "execution_count": 19,
   "metadata": {},
   "outputs": [
    {
     "data": {
      "text/plain": [
       "680.1360000000001"
      ]
     },
     "execution_count": 19,
     "metadata": {},
     "output_type": "execute_result"
    }
   ],
   "source": [
    "trapez_2d(x, y, f5, ax, bx, ay, by)"
   ]
  },
  {
   "cell_type": "code",
   "execution_count": 20,
   "metadata": {},
   "outputs": [
    {
     "data": {
      "image/png": "[encoded data removed]",
      "text/plain": [
       "<Figure size 432x288 with 1 Axes>"
      ]
     },
     "metadata": {
      "needs_background": "light"
     },
     "output_type": "display_data"
    }
   ],
   "source": [
    "similar0 = plot_compare(trapez_2d, N_max=1000)"
   ]
  },
  {
   "cell_type": "markdown",
   "metadata": {},
   "source": [
    "Obserwowana zależność sugeruje, że $error \\sim \\frac{1}{N^2}$, co jest zgodne z teoretycznymi przewidywaniami."
   ]
  },
  {
   "cell_type": "code",
   "execution_count": 22,
   "metadata": {},
   "outputs": [
    {
     "name": "stdout",
     "output_type": "stream",
     "text": [
      "Błąd przypomina ten z metody integrate.dblquad dla N > 450\n"
     ]
    }
   ],
   "source": [
    "print(f'Błąd przypomina ten z metody integrate.dblquad dla N > {similar0[0]}')"
   ]
  },
  {
   "cell_type": "markdown",
   "metadata": {},
   "source": [
    "Wykonano również całkowanie metodą Simpsona w 2D na dwa sposoby.\n",
    "Wykorzystano tablicę współczynników oraz dwukrotne liczenie pojedyńczej całki."
   ]
  },
  {
   "cell_type": "code",
   "execution_count": 23,
   "metadata": {},
   "outputs": [],
   "source": [
    "def simpson_2d(x, y, f, ax, bx, ay, by):\n",
    "    if x.shape[0] % 2 ==0 or y.shape[0] % 2 == 0:\n",
    "        raise ValueError(\"vectros must be odd length\")\n",
    "    dx = (bx-ax)/(x.shape[0]-1)\n",
    "    dy = (by-ay)/(y.shape[0]-1)\n",
    "    f_xy = f(x.reshape(-1, 1), y.reshape(1, -1))\n",
    "    S = dx*dy/9. * np.sum(f_xy*grid)\n",
    "    return S\n",
    "\n",
    "grid = get_simpsons_coef(Nx, Ny)"
   ]
  },
  {
   "cell_type": "code",
   "execution_count": 24,
   "metadata": {},
   "outputs": [],
   "source": [
    "def simpson_2d_double(x, y, f, ax, bx, ay, by):\n",
    "    f_xy = f(x.reshape(-1, 1), y.reshape(1, -1))\n",
    "    return simpson(x, [simpson(y, f_, ay, by) for f_ in f_xy], ax, bx)"
   ]
  },
  {
   "cell_type": "code",
   "execution_count": 25,
   "metadata": {},
   "outputs": [
    {
     "data": {
      "text/plain": [
       "680.0"
      ]
     },
     "execution_count": 25,
     "metadata": {},
     "output_type": "execute_result"
    }
   ],
   "source": [
    "simpson_2d(x, y, f5, ax, bx, ay, by)"
   ]
  },
  {
   "cell_type": "code",
   "execution_count": 26,
   "metadata": {},
   "outputs": [
    {
     "data": {
      "text/plain": [
       "680.0"
      ]
     },
     "execution_count": 26,
     "metadata": {},
     "output_type": "execute_result"
    }
   ],
   "source": [
    "simpson_2d_double(x, y, f5, ax, bx, ay, by)"
   ]
  },
  {
   "cell_type": "code",
   "execution_count": 27,
   "metadata": {
    "scrolled": true
   },
   "outputs": [
    {
     "data": {
      "image/png": "[encoded data removed]",
      "text/plain": [
       "<Figure size 432x288 with 1 Axes>"
      ]
     },
     "metadata": {
      "needs_background": "light"
     },
     "output_type": "display_data"
    }
   ],
   "source": [
    "similar1 = plot_compare(simpson_2d)"
   ]
  },
  {
   "cell_type": "code",
   "execution_count": 28,
   "metadata": {},
   "outputs": [
    {
     "data": {
      "text/plain": [
       "500"
      ]
     },
     "execution_count": 28,
     "metadata": {},
     "output_type": "execute_result"
    }
   ],
   "source": [
    "len(similar1)"
   ]
  },
  {
   "cell_type": "code",
   "execution_count": 29,
   "metadata": {},
   "outputs": [
    {
     "data": {
      "image/png": "[encoded data removed]",
      "text/plain": [
       "<Figure size 432x288 with 1 Axes>"
      ]
     },
     "metadata": {
      "needs_background": "light"
     },
     "output_type": "display_data"
    }
   ],
   "source": [
    "similar2 = plot_compare(simpson_2d_double)"
   ]
  },
  {
   "cell_type": "code",
   "execution_count": 30,
   "metadata": {},
   "outputs": [
    {
     "data": {
      "text/plain": [
       "500"
      ]
     },
     "execution_count": 30,
     "metadata": {},
     "output_type": "execute_result"
    }
   ],
   "source": [
    "len(similar2)"
   ]
  },
  {
   "cell_type": "markdown",
   "metadata": {},
   "source": [
    "W obu przypadkach błąd jest bardzo mały i zawsze bardzo podobny do błędu otrzymanego przy funkcji bibliotecznej. Jendak dla funkcji licoznej metodą tablicową zaobserwowano wzrost błędu wraz ze wzrostem N. Rozbieżność może być spowodowana błędem numerycznym spowodowanym faktem, że $\\Delta x$ i $\\Delta y$ stają się od pewnego N bardzo małe. Teoretycznie powinniśmy zaobserwować, że $error \\sim \\frac{1}{N^4}$"
   ]
  },
  {
   "cell_type": "code",
   "execution_count": null,
   "metadata": {},
   "outputs": [],
   "source": []
  }
 ],
 "metadata": {
  "kernelspec": {
   "display_name": "Python 3",
   "language": "python",
   "name": "python3"
  },
  "toc": {
   "base_numbering": 1,
   "nav_menu": {},
   "number_sections": true,
   "sideBar": true,
   "skip_h1_title": false,
   "title_cell": "Table of Contents",
   "title_sidebar": "Contents",
   "toc_cell": false,
   "toc_position": {},
   "toc_section_display": true,
   "toc_window_display": false
  },
  "varInspector": {
   "cols": {
    "lenName": 16,
    "lenType": 16,
    "lenVar": 40
   },
   "kernels_config": {
    "python": {
     "delete_cmd_postfix": "",
     "delete_cmd_prefix": "del ",
     "library": "var_list.py",
     "varRefreshCmd": "print(var_dic_list())"
    },
    "r": {
     "delete_cmd_postfix": ") ",
     "delete_cmd_prefix": "rm(",
     "library": "var_list.r",
     "varRefreshCmd": "cat(var_dic_list()) "
    }
   },
   "types_to_exclude": [
    "module",
    "function",
    "builtin_function_or_method",
    "instance",
    "_Feature"
   ],
   "window_display": false
  }
 },
 "nbformat": 4,
 "nbformat_minor": 2
}
