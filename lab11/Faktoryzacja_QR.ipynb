{
 "cells": [
  {
   "cell_type": "markdown",
   "metadata": {},
   "source": [
    "# Faktoryzacja QR"
   ]
  },
  {
   "cell_type": "code",
   "execution_count": 264,
   "metadata": {},
   "outputs": [],
   "source": [
    "import numpy as np\n",
    "from sklearn.preprocessing import normalize\n",
    "from scipy import linalg\n",
    "import matplotlib.pyplot as plt"
   ]
  },
  {
   "cell_type": "markdown",
   "metadata": {},
   "source": [
    "### Algorytm Grama-Schmidta"
   ]
  },
  {
   "cell_type": "code",
   "execution_count": 315,
   "metadata": {},
   "outputs": [],
   "source": [
    "def Gram_Schmidt(M):\n",
    "    n = M.shape[0]\n",
    "    Q = np.copy(M)\n",
    "    R = np.zeros((n, n))\n",
    "    for i in range(n):\n",
    "        scalars = M[:,i]@Q[:,:i]\n",
    "        delta = np.sum(scalars*Q[:,:i], axis=1, keepdims=True)\n",
    "        Q[:,i:i+1]-=delta\n",
    "        Q[:,i:i+1] = normalize(Q[:,i:i+1], axis=0)\n",
    "        R[:i,i] = scalars.T\n",
    "        R[i, i] = np.dot(Q[:,i], M[:,i])\n",
    "    return Q, R"
   ]
  },
  {
   "cell_type": "code",
   "execution_count": 97,
   "metadata": {},
   "outputs": [],
   "source": [
    "def get_random_matrix(N):\n",
    "    return np.random.rand(N, N)"
   ]
  },
  {
   "cell_type": "code",
   "execution_count": 122,
   "metadata": {},
   "outputs": [
    {
     "name": "stdout",
     "output_type": "stream",
     "text": [
      "5.95 ms ± 217 µs per loop (mean ± std. dev. of 7 runs, 100 loops each)\n",
      "191 µs ± 2 µs per loop (mean ± std. dev. of 7 runs, 1000 loops each)\n",
      "N=50, Q@R==M: True, Proper Q: True, Proper R: True\n",
      "13.1 ms ± 65.8 µs per loop (mean ± std. dev. of 7 runs, 100 loops each)\n",
      "511 µs ± 3.61 µs per loop (mean ± std. dev. of 7 runs, 1000 loops each)\n",
      "N=100, Q@R==M: True, Proper Q: True, Proper R: True\n",
      "24.6 ms ± 416 µs per loop (mean ± std. dev. of 7 runs, 10 loops each)\n",
      "1.05 ms ± 7.64 µs per loop (mean ± std. dev. of 7 runs, 1000 loops each)\n",
      "N=150, Q@R==M: True, Proper Q: True, Proper R: True\n",
      "41.8 ms ± 3.68 ms per loop (mean ± std. dev. of 7 runs, 10 loops each)\n",
      "2.04 ms ± 345 µs per loop (mean ± std. dev. of 7 runs, 100 loops each)\n",
      "N=200, Q@R==M: True, Proper Q: True, Proper R: True\n"
     ]
    }
   ],
   "source": [
    "for N in [50, 100, 150, 200]:\n",
    "    M = get_random_matrix(N)\n",
    "    %timeit Gram_Schmidt(M)\n",
    "    Q, R = Gram_Schmidt(M)\n",
    "    %timeit np.linalg.qr(M)\n",
    "    Q_lib, R_lib = np.linalg.qr(M)\n",
    "    print(f'N={N}, Q@R==M: {np.allclose(Q@R, M)}, Proper Q: {np.allclose(np.abs(Q), np.abs(Q_lib))}, Proper R: {np.allclose(np.abs(R), np.abs(R_lib))}')"
   ]
  },
  {
   "cell_type": "markdown",
   "metadata": {},
   "source": [
    "### Wpływ wskaźnika uwarunkowania macierzy"
   ]
  },
  {
   "cell_type": "code",
   "execution_count": 279,
   "metadata": {},
   "outputs": [],
   "source": [
    "def get_ill_conditioned_matrix(N, cond):\n",
    "    M = get_random_matrix(N)\n",
    "    S, V, D = np.linalg.svd(M)\n",
    "    V[0]*=(cond*V[-1]/V[0])\n",
    "    return S@linalg.diagsvd(V, N, N)@D\n",
    "\n",
    "def check(Q):\n",
    "    return np.max(np.abs(np.identity(Q.shape[0])-Q.T@Q))    \n",
    "    #return np.linalg.norm(np.identity(Q.shape[0])-Q.T@Q)"
   ]
  },
  {
   "cell_type": "code",
   "execution_count": 280,
   "metadata": {},
   "outputs": [
    {
     "data": {
      "text/plain": [
       "<matplotlib.collections.PathCollection at 0x7f01c3867e80>"
      ]
     },
     "execution_count": 280,
     "metadata": {},
     "output_type": "execute_result"
    },
    {
     "data": {
      "image/png": "[encoded data removed]",
      "text/plain": [
       "<Figure size 432x288 with 1 Axes>"
      ]
     },
     "metadata": {
      "needs_background": "light"
     },
     "output_type": "display_data"
    }
   ],
   "source": [
    "conds = [2**i for i in range(40)]\n",
    "comp = []\n",
    "for c in conds:\n",
    "    M = get_ill_conditioned_matrix(8, c)\n",
    "    Q, R = Gram_Schmidt(M)\n",
    "    comp.append(check(Q))\n",
    "\n",
    "plt.scatter(conds, comp)"
   ]
  },
  {
   "cell_type": "markdown",
   "metadata": {},
   "source": [
    "Obserwujemy utratę ortogonalności macierzy $Q$ w miarę zwiększania się wskaźnika uwarunkowania macierzy. Przyczyną jest poniższa zależność, wspomniana między innymi [tutaj](https://pdfs.semanticscholar.org/3809/cbb4bea1c91d05c80fb5edb8e2890555e342.pdf): $$||I-Q^TQ||<c\\epsilon \\kappa _2 (A)$$ gdzie $\\epsilon$-precyzja obliczeń numerycznych, $\\kappa _2(A)$ - wskaźnik uwarunkowania macierzy $A$. Duża wartość wskaźnika uwarunkowania macierzy sprawia, algorytm Grama-Schmidta staje się numerycznie niestabilny i zalezność $I=Q^TQ$ specyficzna dla macierzy ortogonalnych przestaje obowiązywać."
   ]
  },
  {
   "cell_type": "markdown",
   "metadata": {},
   "source": [
    "# Rozwiązywanie układów równań metodą QR"
   ]
  },
  {
   "cell_type": "code",
   "execution_count": 320,
   "metadata": {},
   "outputs": [],
   "source": [
    "X = [-5.+i for i in range(11)]\n",
    "Y = np.array([2., 7., 9., 12., 13., 14., 14., 13., 10., 8., 4.])\n",
    "A = np.array([[1, x, x*x] for x in X])"
   ]
  },
  {
   "cell_type": "code",
   "execution_count": 325,
   "metadata": {},
   "outputs": [],
   "source": [
    "def least_squares(A, Y):\n",
    "    Q, R = Gram_Schmidt(A.T@A)\n",
    "    return linalg.solve_triangular(R, Q.T@A.T@Y)"
   ]
  },
  {
   "cell_type": "code",
   "execution_count": 332,
   "metadata": {},
   "outputs": [
    {
     "data": {
      "text/plain": [
       "<matplotlib.collections.PathCollection at 0x7f01c351fb38>"
      ]
     },
     "execution_count": 332,
     "metadata": {},
     "output_type": "execute_result"
    },
    {
     "data": {
      "image/png": "[encoded data removed]",
      "text/plain": [
       "<Figure size 432x288 with 1 Axes>"
      ]
     },
     "metadata": {
      "needs_background": "light"
     },
     "output_type": "display_data"
    }
   ],
   "source": [
    "W = least_squares(A, Y.T)\n",
    "X_s = np.arange(-5.5, 5.5, 0.1)\n",
    "Y_s = [W[0]+W[1]*x+W[2]*x*x for x in X_s]\n",
    "plt.plot(X_s, Y_s)\n",
    "plt.scatter(X, Y)"
   ]
  }
 ],
 "metadata": {
  "kernelspec": {
   "display_name": "Python 3",
   "language": "python",
   "name": "python3"
  },
  "toc": {
   "base_numbering": 1,
   "nav_menu": {},
   "number_sections": true,
   "sideBar": true,
   "skip_h1_title": false,
   "title_cell": "Table of Contents",
   "title_sidebar": "Contents",
   "toc_cell": false,
   "toc_position": {},
   "toc_section_display": true,
   "toc_window_display": false
  },
  "varInspector": {
   "cols": {
    "lenName": 16,
    "lenType": 16,
    "lenVar": 40
   },
   "kernels_config": {
    "python": {
     "delete_cmd_postfix": "",
     "delete_cmd_prefix": "del ",
     "library": "var_list.py",
     "varRefreshCmd": "print(var_dic_list())"
    },
    "r": {
     "delete_cmd_postfix": ") ",
     "delete_cmd_prefix": "rm(",
     "library": "var_list.r",
     "varRefreshCmd": "cat(var_dic_list()) "
    }
   },
   "types_to_exclude": [
    "module",
    "function",
    "builtin_function_or_method",
    "instance",
    "_Feature"
   ],
   "window_display": false
  }
 },
 "nbformat": 4,
 "nbformat_minor": 2
}
