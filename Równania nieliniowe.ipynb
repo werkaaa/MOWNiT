{
 "cells": [
  {
   "cell_type": "markdown",
   "metadata": {},
   "source": [
    "# Równania nieliniowe\n",
    "Weronika Ormaniec (Poniedziałek, 17:50)"
   ]
  },
  {
   "cell_type": "markdown",
   "metadata": {},
   "source": [
    "## Bisekcja"
   ]
  },
  {
   "cell_type": "code",
   "execution_count": 1,
   "metadata": {},
   "outputs": [],
   "source": [
    "import mpmath as mp"
   ]
  },
  {
   "cell_type": "code",
   "execution_count": 2,
   "metadata": {},
   "outputs": [],
   "source": [
    "#assumption: functions receive an argument in proper precision\n",
    "\n",
    "def f_1(x, d = False):\n",
    "    if d:\n",
    "        return mp.cos(x)*mp.sinh(x)-mp.cosh(x)*mp.sin(x)\n",
    "    return mp.cos(x)*mp.cosh(x) - 1\n",
    "\n",
    "def f_2(x, d = False):\n",
    "    if d:\n",
    "        return -1*mp.power(x, -2) - mp.power(mp.cos(x), -2)\n",
    "    return 1/x - mp.tan(x)\n",
    "\n",
    "def f_3(x, d = False):\n",
    "    if d:\n",
    "        return -1*mp.ln(2)*mp.power(2, -x) + mp.exp(x) - 2*mp.sin(x) \n",
    "    return mp.power(2, -x) + mp.exp(x) + 2*mp.cos(x)-6"
   ]
  },
  {
   "cell_type": "code",
   "execution_count": 3,
   "metadata": {},
   "outputs": [],
   "source": [
    "def bisection(precision, a, b, eps, f):\n",
    "    mp.mp.dps = precision\n",
    "    a = mp.mpf(a)\n",
    "    b = mp.mpf(b)\n",
    "    iteration = 0\n",
    "    while abs(a-b)>eps:\n",
    "        iteration += 1\n",
    "        c = (a+b)/2\n",
    "        if abs(f(c))<=eps:\n",
    "            break\n",
    "        elif f(a)*f(c)<0:\n",
    "            b = c\n",
    "        else:\n",
    "            a = c\n",
    "            \n",
    "    return (a+b)/2, iteration"
   ]
  },
  {
   "cell_type": "code",
   "execution_count": 4,
   "metadata": {},
   "outputs": [],
   "source": [
    "def test_bisection(f, a, b, precision):\n",
    "    print(f'{f}: ')\n",
    "    for p in precision:\n",
    "        #change a, b to avoid 0 division and undefined tangent function\n",
    "        zero, iteration = bisection(p, a+mp.power(10, -1*p), b-mp.power(10, -1*p), mp.power(10, -1*p), f)\n",
    "        print(f'Zero: {zero}, Iteration {iteration}')"
   ]
  },
  {
   "cell_type": "code",
   "execution_count": 5,
   "metadata": {},
   "outputs": [
    {
     "name": "stdout",
     "output_type": "stream",
     "text": [
      "<function f_1 at 0x7fc974cd3d08>: \n",
      "Zero: 4.730041, Iteration 25\n",
      "Zero: 4.7300407448627, Iteration 51\n",
      "Zero: 4.73004074486270402602404810083389, Iteration 111\n"
     ]
    }
   ],
   "source": [
    "test_bisection(f_1, 3*mp.pi()/2, 2*mp.pi(), [7, 15, 33])"
   ]
  },
  {
   "cell_type": "code",
   "execution_count": 6,
   "metadata": {},
   "outputs": [
    {
     "name": "stdout",
     "output_type": "stream",
     "text": [
      "<function f_2 at 0x7fc974cd3c80>: \n",
      "Zero: 0.8603336, Iteration 24\n",
      "Zero: 0.86033358901938, Iteration 51\n",
      "Zero: 0.860333589019379762483893424137662, Iteration 111\n"
     ]
    }
   ],
   "source": [
    "test_bisection(f_2, 0, mp.pi()/2, [7, 15, 33])"
   ]
  },
  {
   "cell_type": "code",
   "execution_count": 7,
   "metadata": {},
   "outputs": [
    {
     "name": "stdout",
     "output_type": "stream",
     "text": [
      "<function f_3 at 0x7fc975fccf28>: \n",
      "Zero: 1.829384, Iteration 25\n",
      "Zero: 1.82938360193385, Iteration 48\n",
      "Zero: 1.82938360193384881713621294681415, Iteration 111\n"
     ]
    }
   ],
   "source": [
    "test_bisection(f_3, 1, 3, [7, 15, 33])"
   ]
  },
  {
   "cell_type": "markdown",
   "metadata": {},
   "source": [
    "Otrzymana liczba iteracji jest zgodna z tą przewidzianą teoretycznie.\n",
    "\n",
    "Aby otrzymać pierwsze $k$ pierwiastków można ustalić mały krok $\\delta$, $x_0 = 0$, $x_1 = 0$, powiększać $x_1$ o $\\delta$ aż nie otrzymamy $f(x_0)\\cdot f(x_1)<0$, wykonać bisekcję i na koniec podstawić $x_0 = x_1$. Cały proces powtórzyć $k$ razy. Powodzenie tej metody będzie zależało od właściwego dobrania $\\delta$."
   ]
  },
  {
   "cell_type": "markdown",
   "metadata": {},
   "source": [
    "## Metoda Newtona"
   ]
  },
  {
   "cell_type": "code",
   "execution_count": 8,
   "metadata": {},
   "outputs": [],
   "source": [
    "def newton(precision, a, b, N, eps, f):\n",
    "    mp.mp.dps = precision\n",
    "    a = mp.mpf(a)\n",
    "    b = mp.mpf(b)\n",
    "    a = (a+b)/2\n",
    "    iteration = 0\n",
    "    while abs(a-b)>eps and iteration<N:\n",
    "        iteration += 1\n",
    "        b = a\n",
    "        a = a - f(a)/f(a, d=True)\n",
    "            \n",
    "    return a, iteration"
   ]
  },
  {
   "cell_type": "code",
   "execution_count": 9,
   "metadata": {},
   "outputs": [],
   "source": [
    "def test_newton(f, a, b, precision):\n",
    "    print(f'{f}: ')\n",
    "    for p in precision:\n",
    "        #change a, b to avoid 0 division and undefined tangent function\n",
    "        zero, iteration = newton(p, a+mp.power(10, -1*p), b-mp.power(10, -1*p), 150, mp.power(10, -1*p), f)\n",
    "        print(f'Zero: {zero}, Iteration {iteration}')"
   ]
  },
  {
   "cell_type": "code",
   "execution_count": 10,
   "metadata": {},
   "outputs": [
    {
     "name": "stdout",
     "output_type": "stream",
     "text": [
      "<function f_1 at 0x7fc974cd3d08>: \n",
      "Zero: 4.730041, Iteration 6\n",
      "Zero: 4.7300407448627, Iteration 7\n",
      "Zero: 4.73004074486270402602404810083388, Iteration 8\n"
     ]
    }
   ],
   "source": [
    "test_newton(f_1, 3*mp.pi()/2, 2*mp.pi(), [7, 15, 33])"
   ]
  },
  {
   "cell_type": "code",
   "execution_count": 11,
   "metadata": {},
   "outputs": [
    {
     "name": "stdout",
     "output_type": "stream",
     "text": [
      "<function f_2 at 0x7fc974cd3c80>: \n",
      "Zero: 0.8603336, Iteration 3\n",
      "Zero: 0.86033358901938, Iteration 5\n",
      "Zero: 0.860333589019379762483893424137662, Iteration 6\n"
     ]
    }
   ],
   "source": [
    "test_newton(f_2, 0, mp.pi()/2, [7, 15, 33])"
   ]
  },
  {
   "cell_type": "code",
   "execution_count": 12,
   "metadata": {},
   "outputs": [
    {
     "name": "stdout",
     "output_type": "stream",
     "text": [
      "<function f_3 at 0x7fc975fccf28>: \n",
      "Zero: 1.829384, Iteration 5\n",
      "Zero: 1.82938360193385, Iteration 6\n",
      "Zero: 1.82938360193384881713621294681415, Iteration 7\n"
     ]
    }
   ],
   "source": [
    "test_newton(f_3, 1, 3, [7, 15, 33])"
   ]
  },
  {
   "cell_type": "markdown",
   "metadata": {},
   "source": [
    "Metoda Newtona zbiega do rozwiązania dużo szybciej niż metoda bisekcji."
   ]
  },
  {
   "cell_type": "markdown",
   "metadata": {},
   "source": [
    "## Metoda siecznych"
   ]
  },
  {
   "cell_type": "code",
   "execution_count": 13,
   "metadata": {},
   "outputs": [],
   "source": [
    "def secant(precision, a, b, N, eps, f):\n",
    "    mp.mp.dps = precision\n",
    "    x = [mp.mpf(a), mp.mpf(b)]\n",
    "    iteration = 0\n",
    "    while abs(x[0]-x[1])>eps and iteration<N:\n",
    "        iteration += 1\n",
    "        xs = x[1] - f(x[1])*(x[1]-x[0])/(f(x[1])-f(x[0]))\n",
    "        x = [x[1], xs]\n",
    "            \n",
    "    return xs, iteration"
   ]
  },
  {
   "cell_type": "code",
   "execution_count": 14,
   "metadata": {},
   "outputs": [],
   "source": [
    "def test_secant(f, a, b, precision):\n",
    "    print(f'{f}: ')\n",
    "    for p in precision:\n",
    "        #change a, b to avoid 0 division and undefined tangent function\n",
    "        zero, iteration = secant(p, a+mp.power(10, -1*p), b-mp.power(10, -1*p), 150, mp.power(10, -1*p), f)\n",
    "        print(f'Zero: {zero}, Iteration {iteration}')"
   ]
  },
  {
   "cell_type": "code",
   "execution_count": 15,
   "metadata": {},
   "outputs": [
    {
     "name": "stdout",
     "output_type": "stream",
     "text": [
      "<function f_1 at 0x7fc974cd3d08>: \n",
      "Zero: 4.730041, Iteration 6\n",
      "Zero: 4.7300407448627, Iteration 7\n",
      "Zero: 4.73004074486270402602404810083388, Iteration 9\n"
     ]
    }
   ],
   "source": [
    "test_secant(f_1, 3*mp.pi()/2, 2*mp.pi(), [7, 15, 33])"
   ]
  },
  {
   "cell_type": "code",
   "execution_count": 16,
   "metadata": {},
   "outputs": [
    {
     "name": "stdout",
     "output_type": "stream",
     "text": [
      "<function f_2 at 0x7fc974cd3c80>: \n",
      "Zero: 0.8056748, Iteration 2\n",
      "Zero: 0.86033358901938, Iteration 36\n",
      "Zero: 0.860333589019379762483893424137662, Iteration 86\n"
     ]
    }
   ],
   "source": [
    "test_secant(f_2, 0, mp.pi()/2, [7, 15, 33])"
   ]
  },
  {
   "cell_type": "code",
   "execution_count": 17,
   "metadata": {},
   "outputs": [
    {
     "name": "stdout",
     "output_type": "stream",
     "text": [
      "<function f_3 at 0x7fc975fccf28>: \n",
      "Zero: 1.829384, Iteration 10\n",
      "Zero: 1.82938360193385, Iteration 11\n",
      "Zero: 1.82938360193384881713621294681415, Iteration 13\n"
     ]
    }
   ],
   "source": [
    "test_secant(f_3, 1, 3, [7, 15, 33])"
   ]
  },
  {
   "cell_type": "markdown",
   "metadata": {},
   "source": [
    "Wnioskując tylko na podsatwie otrczymanych wyników, metoda siecznych zbiega szybciej niż metoda bisekcji, ale niceo wolniej niż metoda Newtona (zwłaszcza dla dużej precyzji). Jej przewagą jest jednak to, że nie musimy znać pochodnej funkcji."
   ]
  }
 ],
 "metadata": {
  "kernelspec": {
   "display_name": "Python 3",
   "language": "python",
   "name": "python3"
  },
  "language_info": {
   "codemirror_mode": {
    "name": "ipython",
    "version": 3
   },
   "file_extension": ".py",
   "mimetype": "text/x-python",
   "name": "python",
   "nbconvert_exporter": "python",
   "pygments_lexer": "ipython3",
   "version": "3.7.3"
  },
  "toc": {
   "base_numbering": 1,
   "nav_menu": {},
   "number_sections": true,
   "sideBar": true,
   "skip_h1_title": false,
   "title_cell": "Table of Contents",
   "title_sidebar": "Contents",
   "toc_cell": false,
   "toc_position": {},
   "toc_section_display": true,
   "toc_window_display": false
  },
  "varInspector": {
   "cols": {
    "lenName": 16,
    "lenType": 16,
    "lenVar": 40
   },
   "kernels_config": {
    "python": {
     "delete_cmd_postfix": "",
     "delete_cmd_prefix": "del ",
     "library": "var_list.py",
     "varRefreshCmd": "print(var_dic_list())"
    },
    "r": {
     "delete_cmd_postfix": ") ",
     "delete_cmd_prefix": "rm(",
     "library": "var_list.r",
     "varRefreshCmd": "cat(var_dic_list()) "
    }
   },
   "types_to_exclude": [
    "module",
    "function",
    "builtin_function_or_method",
    "instance",
    "_Feature"
   ],
   "window_display": false
  }
 },
 "nbformat": 4,
 "nbformat_minor": 2
}
