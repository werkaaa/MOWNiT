{
 "cells": [
  {
   "cell_type": "markdown",
   "metadata": {},
   "source": [
    "# Dekompozycja spektralna"
   ]
  },
  {
   "cell_type": "code",
   "execution_count": 1,
   "metadata": {},
   "outputs": [],
   "source": [
    "import numpy as np\n",
    "import scipy.linalg\n",
    "import time\n",
    "import matplotlib.pyplot as plt"
   ]
  },
  {
   "cell_type": "code",
   "execution_count": 2,
   "metadata": {},
   "outputs": [],
   "source": [
    "def get_symetric_matrix(n):\n",
    "    M = np.random.uniform(size=(n, n))\n",
    "    return 0.5*(M+M.T)"
   ]
  },
  {
   "cell_type": "code",
   "execution_count": 3,
   "metadata": {},
   "outputs": [],
   "source": [
    "def get_dominant_eigenvalue(M):\n",
    "    eig_vals, eig_vecs = scipy.linalg.eigh(M)\n",
    "    if abs(eig_vals[0]) > abs(eig_vals[-1]):\n",
    "        return abs(eig_vals[0]), eig_vecs[:,0]/np.linalg.norm(eig_vecs[:,0])\n",
    "    else:\n",
    "        return abs(eig_vals[-1]), eig_vecs[:,-1]/np.linalg.norm(eig_vecs[:,-1])"
   ]
  },
  {
   "cell_type": "markdown",
   "metadata": {},
   "source": [
    "## Metoda potęgowa"
   ]
  },
  {
   "cell_type": "code",
   "execution_count": 46,
   "metadata": {},
   "outputs": [],
   "source": [
    "def power_method(M, max_iter=10000):\n",
    "    eps = 10**(-10)\n",
    "    n = M.shape[0]\n",
    "    x1 = np.random.uniform(size=(n, 1))\n",
    "    for i in range(max_iter):\n",
    "        x2 = M@x1\n",
    "        x2_norm = x2/np.linalg.norm(x2, ord=np.inf)\n",
    "        if np.linalg.norm(x2_norm-x1) < eps:\n",
    "            x1 = x2_norm\n",
    "            break\n",
    "        x1 = x2_norm\n",
    "        \n",
    "    return np.linalg.norm(x2, np.inf), (x1/np.linalg.norm(x1)).reshape(n), i"
   ]
  },
  {
   "cell_type": "code",
   "execution_count": 49,
   "metadata": {},
   "outputs": [],
   "source": [
    "def check_get_times(eps=10**(-6)):\n",
    "    sizes = [100, 200, 300, 400, 500, 600, 700, 800, 900, 1000]\n",
    "    times = []\n",
    "    iterations = []\n",
    "    for s in sizes:\n",
    "        M = get_symetric_matrix(s)\n",
    "        start = time.time()\n",
    "        eig_val, eig_vec, it = power_method(M)\n",
    "        end = time.time()\n",
    "        times.append(end-start)\n",
    "        iterations.append(it)\n",
    "        l_eig_val, l_eig_vec = get_dominant_eigenvalue(M)\n",
    "        if l_eig_vec[0]*eig_vec[0]<0:\n",
    "            l_eig_vec *= -1.\n",
    "        \n",
    "        print(f'{s}x{s} matrix, {round(eig_val, 3)}, {round(l_eig_val, 3)}, eigenvalues equal: {abs(l_eig_val-eig_val)<eps}, eigenvectors equal: {np.allclose(eig_vec, l_eig_vec, rtol=eps)}')\n",
    "    return sizes, times, iterations\n",
    "\n",
    "def show_times(eps=10**(-6)):\n",
    "    sizes, times, iterations = check_get_times(eps)\n",
    "    fig, ax1 = plt.subplots(1, 1, figsize=(12,6))\n",
    "    fig.suptitle(\"Time [s]\")\n",
    "    ax1.plot(sizes, times)   \n",
    "    plt.show()\n",
    "    return iterations"
   ]
  },
  {
   "cell_type": "code",
   "execution_count": 51,
   "metadata": {},
   "outputs": [
    {
     "name": "stdout",
     "output_type": "stream",
     "text": [
      "100x100 matrix, 49.87, 49.87, eigenvalues equal: True, eigenvectors equal: True\n",
      "200x200 matrix, 100.21, 100.21, eigenvalues equal: True, eigenvectors equal: True\n",
      "300x300 matrix, 150.29, 150.29, eigenvalues equal: True, eigenvectors equal: True\n",
      "400x400 matrix, 200.46, 200.46, eigenvalues equal: True, eigenvectors equal: True\n",
      "500x500 matrix, 250.454, 250.454, eigenvalues equal: True, eigenvectors equal: True\n",
      "600x600 matrix, 300.163, 300.163, eigenvalues equal: True, eigenvectors equal: True\n",
      "700x700 matrix, 350.358, 350.358, eigenvalues equal: True, eigenvectors equal: True\n",
      "800x800 matrix, 400.553, 400.553, eigenvalues equal: True, eigenvectors equal: True\n",
      "900x900 matrix, 450.118, 450.118, eigenvalues equal: True, eigenvectors equal: True\n",
      "1000x1000 matrix, 500.364, 500.364, eigenvalues equal: True, eigenvectors equal: True\n"
     ]
    },
    {
     "data": {
      "image/png": "[encoded data removed]",
      "text/plain": [
       "<Figure size 864x432 with 1 Axes>"
      ]
     },
     "metadata": {
      "needs_background": "light"
     },
     "output_type": "display_data"
    }
   ],
   "source": [
    "iterations_power_method = show_times()"
   ]
  },
  {
   "cell_type": "markdown",
   "metadata": {},
   "source": [
    "## Odwrotna metoda potęgowa"
   ]
  },
  {
   "cell_type": "code",
   "execution_count": 27,
   "metadata": {},
   "outputs": [],
   "source": [
    "def inverse_power_method(M, sigma, max_iter=10000):\n",
    "    eps = 10**(-10)\n",
    "    n = M.shape[0]\n",
    "    x1 = np.random.uniform(size=(n, 1))\n",
    "    B = M - sigma*np.identity(n)\n",
    "    for i in range(max_iter):\n",
    "        P,L,U = scipy.linalg.lu(B)\n",
    "        y = scipy.linalg.solve_triangular(L, P@x1)\n",
    "        x2 = scipy.linalg.solve_triangular(U, y)\n",
    "        x2_norm = x2/np.linalg.norm(x2, ord=np.inf)\n",
    "        if np.linalg.norm(x2_norm-x1) < eps:\n",
    "            x1 = x2_norm\n",
    "            break\n",
    "        x1 = x2_norm\n",
    "        \n",
    "    return (x1/np.linalg.norm(x1)).reshape(n)"
   ]
  },
  {
   "cell_type": "code",
   "execution_count": 42,
   "metadata": {},
   "outputs": [],
   "source": [
    "def check_power_method(eps=10**(-4)):\n",
    "    sizes = [100, 200, 500]\n",
    "    for s in sizes:\n",
    "        M = get_symetric_matrix(s)\n",
    "        l_eig_val, l_eig_vec = get_dominant_eigenvalue(M)\n",
    "        eig_vec = inverse_power_method(M, l_eig_val+eps)\n",
    "\n",
    "        if l_eig_vec[0]*eig_vec[0]<0:\n",
    "            l_eig_vec *= -1.\n",
    "        print(f'{s}x{s} matrix, eigenvalues equal: eigenvectors equal: {np.allclose(eig_vec, l_eig_vec, rtol=10**(-2))}')"
   ]
  },
  {
   "cell_type": "code",
   "execution_count": 43,
   "metadata": {},
   "outputs": [
    {
     "name": "stdout",
     "output_type": "stream",
     "text": [
      "100x100 matrix, eigenvalues equal: eigenvectors equal: True\n",
      "200x200 matrix, eigenvalues equal: eigenvectors equal: True\n",
      "500x500 matrix, eigenvalues equal: eigenvectors equal: True\n"
     ]
    }
   ],
   "source": [
    "check_power_method()"
   ]
  },
  {
   "cell_type": "markdown",
   "metadata": {},
   "source": [
    "## Iteracje z ilorazem Rayleigha"
   ]
  },
  {
   "cell_type": "code",
   "execution_count": 57,
   "metadata": {},
   "outputs": [],
   "source": [
    "def rayleigh_iteration_method(M, mu, max_iter=10000):\n",
    "    eps = 10**(-6)\n",
    "    n = M.shape[0]\n",
    "    x1 = np.random.uniform(size=(n, 1))\n",
    "    #x1 = np.ones((n, 1))\n",
    "    for i in range(max_iter):\n",
    "        B = M - mu*np.identity(n)\n",
    "        P,L,U = scipy.linalg.lu(B)\n",
    "        y = scipy.linalg.solve_triangular(L, P@x1)\n",
    "        x2 = scipy.linalg.solve_triangular(U, y)\n",
    "        x2_norm = x2/np.linalg.norm(x2, ord=np.inf)\n",
    "        if np.linalg.norm(x2_norm-x1) < eps:\n",
    "            x1 = x2_norm\n",
    "            mu = (x1.T@M@x1/(x1.T@x1)).item()\n",
    "            break\n",
    "        x1 = x2_norm\n",
    "        mu = (x1.T@M@x1/(x1.T@x1)).item()\n",
    "\n",
    "    return mu, (x1/np.linalg.norm(x1)).reshape(n), i"
   ]
  },
  {
   "cell_type": "code",
   "execution_count": 62,
   "metadata": {},
   "outputs": [],
   "source": [
    "def check_get_times(eps=10**(-6)):\n",
    "    sizes = [100, 200, 300, 400, 500, 600, 700, 800, 900, 1000]\n",
    "    times = []\n",
    "    iterations = []\n",
    "    for s in sizes:\n",
    "        M = get_symetric_matrix(s)\n",
    "        l_eig_val, l_eig_vec = get_dominant_eigenvalue(M)\n",
    "        start = time.time()\n",
    "        eig_val, eig_vec, it = rayleigh_iteration_method(M, l_eig_val+eps)\n",
    "        end = time.time()\n",
    "        times.append(end-start)\n",
    "        iterations.append(it)\n",
    "        if l_eig_vec[0]*eig_vec[0]<0:\n",
    "            l_eig_vec *= -1.\n",
    "        \n",
    "        print(f'{s}x{s} matrix, {round(eig_val, 3)}, {round(l_eig_val, 3)}, eigenvalues equal: {abs(l_eig_val-eig_val)<eps}, eigenvectors equal: {np.allclose(eig_vec, l_eig_vec, rtol=eps)}')\n",
    "    return sizes, times, iterations\n",
    "\n",
    "def show_times(eps=10**(-6)):\n",
    "    sizes, times, iterations = check_get_times(eps)\n",
    "    fig, ax1 = plt.subplots(1, 1, figsize=(12,6))\n",
    "    fig.suptitle(\"Time [s]\")\n",
    "    ax1.plot(sizes, times)   \n",
    "    plt.show()\n",
    "    return iterations"
   ]
  },
  {
   "cell_type": "code",
   "execution_count": 63,
   "metadata": {},
   "outputs": [
    {
     "name": "stdout",
     "output_type": "stream",
     "text": [
      "100x100 matrix, 50.004, 50.004, eigenvalues equal: True, eigenvectors equal: True\n",
      "200x200 matrix, 99.796, 99.796, eigenvalues equal: True, eigenvectors equal: True\n",
      "300x300 matrix, 150.001, 150.001, eigenvalues equal: True, eigenvectors equal: True\n",
      "400x400 matrix, 199.768, 199.768, eigenvalues equal: True, eigenvectors equal: True\n",
      "500x500 matrix, 250.152, 250.152, eigenvalues equal: True, eigenvectors equal: True\n",
      "600x600 matrix, 300.428, 300.428, eigenvalues equal: True, eigenvectors equal: True\n",
      "700x700 matrix, 350.065, 350.065, eigenvalues equal: True, eigenvectors equal: True\n",
      "800x800 matrix, 399.894, 399.894, eigenvalues equal: True, eigenvectors equal: True\n",
      "900x900 matrix, 450.393, 450.393, eigenvalues equal: True, eigenvectors equal: True\n",
      "1000x1000 matrix, 500.019, 500.019, eigenvalues equal: True, eigenvectors equal: True\n"
     ]
    },
    {
     "data": {
      "image/png": "[encoded data removed]",
      "text/plain": [
       "<Figure size 864x432 with 1 Axes>"
      ]
     },
     "metadata": {
      "needs_background": "light"
     },
     "output_type": "display_data"
    }
   ],
   "source": [
    "iterations_rayleigh = show_times()"
   ]
  },
  {
   "cell_type": "code",
   "execution_count": 64,
   "metadata": {},
   "outputs": [
    {
     "name": "stdout",
     "output_type": "stream",
     "text": [
      "100x100 matrix, power method: 9 iterations, rayleigh method: 2 iterations\n",
      "200x200 matrix, power method: 9 iterations, rayleigh method: 2 iterations\n",
      "300x300 matrix, power method: 8 iterations, rayleigh method: 2 iterations\n",
      "400x400 matrix, power method: 8 iterations, rayleigh method: 2 iterations\n",
      "500x500 matrix, power method: 8 iterations, rayleigh method: 2 iterations\n",
      "600x600 matrix, power method: 8 iterations, rayleigh method: 2 iterations\n",
      "700x700 matrix, power method: 7 iterations, rayleigh method: 2 iterations\n",
      "800x800 matrix, power method: 7 iterations, rayleigh method: 3 iterations\n",
      "900x900 matrix, power method: 7 iterations, rayleigh method: 5 iterations\n",
      "1000x1000 matrix, power method: 7 iterations, rayleigh method: 2 iterations\n"
     ]
    }
   ],
   "source": [
    "sizes = [100, 200, 300, 400, 500, 600, 700, 800, 900, 1000]\n",
    "for i in range(len(sizes)):\n",
    "    print(f'{sizes[i]}x{sizes[i]} matrix, power method: {iterations_power_method[i]} iterations, rayleigh method: {iterations_rayleigh[i]} iterations')"
   ]
  },
  {
   "cell_type": "code",
   "execution_count": null,
   "metadata": {},
   "outputs": [],
   "source": []
  }
 ],
 "metadata": {
  "kernelspec": {
   "display_name": "Python 3",
   "language": "python",
   "name": "python3"
  },
  "toc": {
   "base_numbering": 1,
   "nav_menu": {},
   "number_sections": true,
   "sideBar": true,
   "skip_h1_title": false,
   "title_cell": "Table of Contents",
   "title_sidebar": "Contents",
   "toc_cell": false,
   "toc_position": {},
   "toc_section_display": true,
   "toc_window_display": false
  },
  "varInspector": {
   "cols": {
    "lenName": 16,
    "lenType": 16,
    "lenVar": 40
   },
   "kernels_config": {
    "python": {
     "delete_cmd_postfix": "",
     "delete_cmd_prefix": "del ",
     "library": "var_list.py",
     "varRefreshCmd": "print(var_dic_list())"
    },
    "r": {
     "delete_cmd_postfix": ") ",
     "delete_cmd_prefix": "rm(",
     "library": "var_list.r",
     "varRefreshCmd": "cat(var_dic_list()) "
    }
   },
   "types_to_exclude": [
    "module",
    "function",
    "builtin_function_or_method",
    "instance",
    "_Feature"
   ],
   "window_display": false
  }
 },
 "nbformat": 4,
 "nbformat_minor": 2
}
